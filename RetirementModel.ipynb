{
 "cells": [
  {
   "cell_type": "markdown",
   "id": "d4ff4675-ace8-4619-a763-393290b14e56",
   "metadata": {},
   "source": [
    "## The Initial Model\n",
    "\n",
    "The initial problem is to determine the number of years to retirement based on the following info: \n",
    "- Salary\n",
    "- Savings rate\n",
    "- Investment rate\n",
    "- Desired cash"
   ]
  },
  {
   "cell_type": "markdown",
   "id": "36749e33-8399-4d85-9e00-19afbcbc35ba",
   "metadata": {
    "tags": []
   },
   "source": [
    "# Inputs\n",
    "\n",
    "### Define the Inputs\n",
    "Here I will just define the variables containing our input information. Please note that in Python, you must use decimals and not percentages. So 50% is 0.50. Typing 50% would be invalid."
   ]
  },
  {
   "cell_type": "code",
   "execution_count": 4,
   "id": "1dd0acf8-34fc-4a3a-a835-fecfe19ee7df",
   "metadata": {},
   "outputs": [],
   "source": [
    "salary = 60000\n",
    "savings_rate = 0.25\n",
    "investment_rate = 0.05\n",
    "desired_cash = 1500000"
   ]
  },
  {
   "cell_type": "markdown",
   "id": "39214fe4-4a41-4112-b4ee-3a4d15b37419",
   "metadata": {},
   "source": [
    "# Deteriming Cash Saved\n",
    "\n",
    "First we need to calculate the annual amount of cash saved. It is simply the savings rate multiplied by the salary."
   ]
  },
  {
   "cell_type": "code",
   "execution_count": 7,
   "id": "1d4eb5c5-b7a8-49ed-ae79-382201214806",
   "metadata": {},
   "outputs": [
    {
     "data": {
      "text/plain": [
       "15000.0"
      ]
     },
     "execution_count": 7,
     "metadata": {},
     "output_type": "execute_result"
    }
   ],
   "source": [
    "annual_cash = salary * savings_rate\n",
    "annual_cash"
   ]
  },
  {
   "cell_type": "markdown",
   "id": "d57b0482-0b7c-479e-a60a-e5641b9c69df",
   "metadata": {},
   "source": [
    "# Years to Retirement"
   ]
  },
  {
   "cell_type": "code",
   "execution_count": 17,
   "id": "3ec75d24-d749-4465-88ba-1c49285903fd",
   "metadata": {},
   "outputs": [],
   "source": [
    "import numpy_financial as npf"
   ]
  },
  {
   "cell_type": "code",
   "execution_count": 20,
   "id": "f359e695-6cba-4ad4-9bf0-fd352d05150f",
   "metadata": {},
   "outputs": [],
   "source": [
    "years_to_retirement = npf.nper(investment_rate, -annual_cash, 0, desired_cash)"
   ]
  },
  {
   "cell_type": "code",
   "execution_count": 22,
   "id": "d44f7de7-48c4-4e78-8e33-583a04ee6060",
   "metadata": {},
   "outputs": [
    {
     "name": "stdout",
     "output_type": "stream",
     "text": [
      "Martha has 36.7 years to retirement.\n"
     ]
    }
   ],
   "source": [
    "print(f'Martha has {years_to_retirement:.1f} years to retirement.')"
   ]
  },
  {
   "cell_type": "markdown",
   "id": "0cc562a5-63b2-4934-a73a-efe82e731a40",
   "metadata": {},
   "source": [
    "## Multiple Interest Rates"
   ]
  },
  {
   "cell_type": "code",
   "execution_count": 23,
   "id": "2432e2d3-1b78-4e6b-af15-b1c2bdcd032c",
   "metadata": {},
   "outputs": [],
   "source": [
    "investment_rates = [0.04, 0.05, 0.06]"
   ]
  },
  {
   "cell_type": "code",
   "execution_count": 24,
   "id": "4636e619-3e40-4064-a346-bacef71d7544",
   "metadata": {},
   "outputs": [
    {
     "name": "stdout",
     "output_type": "stream",
     "text": [
      "Martha has 41.0 years to retirement if she earns a 4% return.\n",
      "Martha has 36.7 years to retirement if she earns a 5% return.\n",
      "Martha has 33.4 years to retirement if she earns a 6% return.\n"
     ]
    }
   ],
   "source": [
    "for i_rate in investment_rates:\n",
    "    years_to_retirement = npf.nper(i_rate, -annual_cash, 0, desired_cash)\n",
    "    print(f'Martha has {years_to_retirement:.1f} years to retirement if she earns a {i_rate:.0%} return.')"
   ]
  }
 ],
 "metadata": {
  "kernelspec": {
   "display_name": "Python 3 (ipykernel)",
   "language": "python",
   "name": "python3"
  },
  "language_info": {
   "codemirror_mode": {
    "name": "ipython",
    "version": 3
   },
   "file_extension": ".py",
   "mimetype": "text/x-python",
   "name": "python",
   "nbconvert_exporter": "python",
   "pygments_lexer": "ipython3",
   "version": "3.9.15"
  }
 },
 "nbformat": 4,
 "nbformat_minor": 5
}
